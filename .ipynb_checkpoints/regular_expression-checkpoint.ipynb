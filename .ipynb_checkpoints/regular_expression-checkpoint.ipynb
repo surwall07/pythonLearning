{
 "cells": [
  {
   "cell_type": "markdown",
   "metadata": {},
   "source": [
    "# Simple Patterns\n",
    "## Matching charactesr\n",
    "* Most letters and characters will simply match themselves.\n",
    "* There are exceptions to this rule; some characters are special metacharacters, and don’t match themselves. \n",
    "Here’s a complete list of the metacharacters; \n",
    "```python\n",
    ". ^ $ * + ? { } [ ] \\ | ( )\n",
    "```"
   ]
  },
  {
   "cell_type": "markdown",
   "metadata": {},
   "source": [
    "```\n",
    "[] They’re used for specifying a character class, which is a set of characters that you wish to match.\n",
    "1. [abc] is same as [a-c]\n",
    "2. [akm$] will match a, k, m, $\n",
    "3. [^5] will match char that's not 5\n",
    "4. [5^] will match 5 or ^\n",
    "```"
   ]
  },
  {
   "cell_type": "markdown",
   "metadata": {},
   "source": [
    "```\n",
    "\"\\\" As in Python string literals, the backslash can be followed by various characters to signal various special sequences. It’s also used to escape all the metacharacters so you can still match them in patterns;\n",
    "```"
   ]
  },
  {
   "cell_type": "markdown",
   "metadata": {},
   "source": [
    "```\n",
    "\\d = [0-9]\n",
    "\\D = [^0-9]\n",
    "\\s = [ \\t\\n\\r\\f\\v]\n",
    "\\S = [^ \\t\\n\\r\\f\\v]\n",
    "\\w = [a-zA-Z0-9_]\n",
    "\\W = [^a-zA-Z0-9_]\n",
    ". = any character except newline \n",
    "there’s an alternate mode (re.DOTALL) where it will match even a newline\n",
    "these sequences can be included inside a character class.\n",
    "```"
   ]
  },
  {
   "cell_type": "markdown",
   "metadata": {},
   "source": [
    "## repeating things"
   ]
  },
  {
   "cell_type": "markdown",
   "metadata": {},
   "source": [
    "```\n",
    "* specifies the previous char can be matched zero and more times.\n",
    "ca*t = cat or ct or caaaaaat\n",
    "\n",
    "+ specifies that previous char can be matched at least once\n",
    "? specifies that previous char can be matched either 0 or once\n",
    "{m, n}\n",
    "a/{1,3}b = a/b or a//b or a///b\n",
    "```"
   ]
  },
  {
   "cell_type": "markdown",
   "metadata": {},
   "source": [
    "# Using Regular Expressions\n",
    "## Compile RE"
   ]
  },
  {
   "cell_type": "code",
   "execution_count": 7,
   "metadata": {},
   "outputs": [
    {
     "data": {
      "text/plain": [
       "re.compile(r'ab*', re.IGNORECASE|re.UNICODE)"
      ]
     },
     "execution_count": 7,
     "metadata": {},
     "output_type": "execute_result"
    }
   ],
   "source": [
    "import re\n",
    "p = re.compile('ab*')\n",
    "p\n",
    "# re.compile() also accepts an optional flags argument, used to enable various special features and syntax variations.\n",
    "p = re.compile('ab*', re.IGNORECASE)\n",
    "p"
   ]
  },
  {
   "cell_type": "markdown",
   "metadata": {},
   "source": [
    "The RE is passed to re.compile() as a string. REs are handled as strings because regular expressions aren’t part of the core Python language, and no special syntax was created for expressing them. "
   ]
  },
  {
   "cell_type": "markdown",
   "metadata": {},
   "source": [
    "## The Backslash Plague"
   ]
  },
  {
   "cell_type": "markdown",
   "metadata": {},
   "source": [
    "As stated earlier, regular expressions use the backslash character ('\\') to indicate special forms or to allow special characters to be used without invoking their special meaning. This conflicts with Python’s usage of the same character for the same purpose in string literals."
   ]
  },
  {
   "cell_type": "markdown",
   "metadata": {},
   "source": [
    "|Characters |  Stage |\n",
    "| --------   | -----   |\n",
    "|\\section | Escaped backslash for re.compile() |\n",
    "| \"\\\\\\\\section\" | Escaped backslashes for a string literal |"
   ]
  },
  {
   "cell_type": "markdown",
   "metadata": {},
   "source": [
    "In short, to match a literal backslash, one has to write '\\\\\\\\' as the RE string, because the regular expression must be \\\\, and each backslash must be expressed as \\\\ inside a regular Python string literal. \n",
    "The solution is to use Python’s raw string notation. r\"\\n\""
   ]
  },
  {
   "cell_type": "markdown",
   "metadata": {},
   "source": [
    "## Performing Matches\n",
    "match() and search() return None if no match can be found. If they’re successful, a match object instance is returned, containing information about the match: where it starts and ends, the substring it matched, and more."
   ]
  },
  {
   "cell_type": "code",
   "execution_count": 20,
   "metadata": {},
   "outputs": [
    {
     "name": "stdout",
     "output_type": "stream",
     "text": [
      "None\n",
      "<re.Match object; span=(0, 5), match='tempo'>\n",
      "tempo 0 5\n",
      "<re.Match object; span=(4, 11), match='message'>\n"
     ]
    }
   ],
   "source": [
    "import re\n",
    "p = re.compile(r'[a-z]+')\n",
    "print(p.match(\"\"))\n",
    "m = p.match('tempo')\n",
    "print(m)\n",
    "print(m.group(), m.start(), m.end()) # group return the substring that was matched by the RE\n",
    "m = p.search('::: message'); # the search() method of patterns scans through the string, so the match may not start at zero in that case.\n",
    "print(m) "
   ]
  },
  {
   "cell_type": "code",
   "execution_count": 22,
   "metadata": {},
   "outputs": [
    {
     "name": "stdout",
     "output_type": "stream",
     "text": [
      "12\n",
      "11\n",
      "10\n"
     ]
    }
   ],
   "source": [
    "p = re.compile(r'\\d+')\n",
    "matches = p.findall('12 drummers drumming, 11 pipers piping, 10 lords a-leaping')\n",
    "for match in matches:\n",
    "    print(match)"
   ]
  },
  {
   "cell_type": "markdown",
   "metadata": {},
   "source": [
    "## Module-level Functions\n",
    "You don’t have to create a pattern object and call its methods; the re module also provides top-level functions called match(), search(), findall(), sub(), and so forth. "
   ]
  },
  {
   "cell_type": "code",
   "execution_count": 5,
   "metadata": {},
   "outputs": [
    {
     "name": "stdout",
     "output_type": "stream",
     "text": [
      "None\n"
     ]
    },
    {
     "data": {
      "text/plain": [
       "<re.Match object; span=(0, 5), match='From '>"
      ]
     },
     "execution_count": 5,
     "metadata": {},
     "output_type": "execute_result"
    }
   ],
   "source": [
    "import re\n",
    "\n",
    "print(re.match(r'From\\s+', 'Fromage amk'))\n",
    "re.match(r'From\\s+', 'From amk Thu May 14 19:12:10 1998')  "
   ]
  },
  {
   "cell_type": "markdown",
   "metadata": {},
   "source": [
    "## Compilation Flags \n",
    "Flag | Meaning\n",
    ":-: | :-:\n",
    "ASCII, A | Makes several escapes like \\w, \\b, \\s and \\d match only on ASCII characters with the respective property.\n",
    "DOTALL, D | Make . match any character, including newlines.\n",
    "IGNORECASE, I | do case-insensitive matches\n",
    "LOCALE, L | do a locale-aware match\n",
    "MULTILINE, M | Multi-line matching, affecting ^ and $.\n",
    "VERBOSE, X(for extended) | Enable verbose REs, which can be organized more cleanly and understandably."
   ]
  },
  {
   "cell_type": "code",
   "execution_count": 8,
   "metadata": {},
   "outputs": [],
   "source": [
    "charref = re.compile(r\"\"\"\n",
    " &[#]                # Start of a numeric entity reference\n",
    " (\n",
    "     0[0-7]+         # Octal form\n",
    "   | [0-9]+          # Decimal form\n",
    "   | x[0-9a-fA-F]+   # Hexadecimal form\n",
    " )\n",
    " ;                   # Trailing semicolon\n",
    "\"\"\", re.VERBOSE)"
   ]
  },
  {
   "cell_type": "markdown",
   "metadata": {},
   "source": [
    "# More Pattern Power"
   ]
  },
  {
   "cell_type": "markdown",
   "metadata": {},
   "source": [
    "# more metacharacters"
   ]
  },
  {
   "cell_type": "markdown",
   "metadata": {},
   "source": [
    "```|```  A|B will match any string that matches either A or B. To match a literal '|', use \\|, or enclose it inside a character class, as in ```[|]```. \n",
    "\n",
    "```^``` Matches at the beginning of lines. Unless the MULTILINE flag has been set, this will only match at the beginning of the string. In MULTILINE mode, this also matches immediately after each newline within the string."
   ]
  },
  {
   "cell_type": "code",
   "execution_count": 9,
   "metadata": {},
   "outputs": [
    {
     "name": "stdout",
     "output_type": "stream",
     "text": [
      "<re.Match object; span=(0, 4), match='From'>\n",
      "None\n"
     ]
    }
   ],
   "source": [
    "print(re.search('^From', 'From Here to Eternity'))  \n",
    "\n",
    "print(re.search('^From', 'Reciting From Memory'))"
   ]
  },
  {
   "cell_type": "markdown",
   "metadata": {},
   "source": [
    "```$``` match end of the file\n",
    "\n",
    "```\\A``` match at the start of the line even though at multiline mode\n",
    "\n",
    "```\\Z``` match end of the line\n",
    "\n",
    "```\\b``` word boundary\n",
    "\n",
    "```\\B``` only matches when is not at a word boundary"
   ]
  },
  {
   "cell_type": "code",
   "execution_count": 11,
   "metadata": {},
   "outputs": [
    {
     "name": "stdout",
     "output_type": "stream",
     "text": [
      "<re.Match object; span=(3, 8), match='class'>\n",
      "None\n",
      "None\n"
     ]
    }
   ],
   "source": [
    "p = re.compile(r'\\bclass\\b')\n",
    "print(p.search('no class at all'))\n",
    "\n",
    "print(p.search('the declassified algorithm'))\n",
    "\n",
    "print(p.search('one subclass is'))"
   ]
  },
  {
   "cell_type": "markdown",
   "metadata": {},
   "source": [
    "## Grouping\n",
    "Frequently you need to obtain more information than just whether the RE matched or not.\n",
    "\n",
    "```'('``` and ```')'``` they group together the expressions contained inside them, and you can repeat the contents of a group with a repeating qualifier"
   ]
  },
  {
   "cell_type": "code",
   "execution_count": 13,
   "metadata": {},
   "outputs": [
    {
     "name": "stdout",
     "output_type": "stream",
     "text": [
      "(0, 10)\n"
     ]
    }
   ],
   "source": [
    "p = re.compile('(ab)*')\n",
    "print(p.match('ababababab').span())"
   ]
  },
  {
   "cell_type": "markdown",
   "metadata": {},
   "source": [
    "Groups are numbered starting with 0. Group 0 is always present; it’s the whole RE, so match object methods all have group 0 as their default argument. "
   ]
  },
  {
   "cell_type": "code",
   "execution_count": 17,
   "metadata": {},
   "outputs": [
    {
     "name": "stdout",
     "output_type": "stream",
     "text": [
      "ab\n",
      "ab\n"
     ]
    }
   ],
   "source": [
    "p = re.compile('(a)b')\n",
    "m = p.match('ab')\n",
    "print(m.group())\n",
    "print(m.group(0))"
   ]
  },
  {
   "cell_type": "markdown",
   "metadata": {},
   "source": [
    "Subgroups are numbered from left to right, from 1 upward. Groups can be nested; to determine the number, just count the opening parenthesis characters, going from left to right."
   ]
  },
  {
   "cell_type": "code",
   "execution_count": 22,
   "metadata": {},
   "outputs": [
    {
     "name": "stdout",
     "output_type": "stream",
     "text": [
      "b\n",
      "('abc', 'b')\n",
      "('abc', 'b')\n"
     ]
    }
   ],
   "source": [
    "p = re.compile('(a(b)c)d')\n",
    "m = p.match('abcd')\n",
    "print(m.group(2))\n",
    "print(m.group(1,2)) # groups can be passed multiple numbers. Return a tuple\n",
    "print(m.groups())"
   ]
  },
  {
   "cell_type": "code",
   "execution_count": null,
   "metadata": {},
   "outputs": [],
   "source": []
  }
 ],
 "metadata": {
  "kernelspec": {
   "display_name": "Python 3",
   "language": "python",
   "name": "python3"
  },
  "language_info": {
   "codemirror_mode": {
    "name": "ipython",
    "version": 3
   },
   "file_extension": ".py",
   "mimetype": "text/x-python",
   "name": "python",
   "nbconvert_exporter": "python",
   "pygments_lexer": "ipython3",
   "version": "3.7.4"
  }
 },
 "nbformat": 4,
 "nbformat_minor": 4
}
