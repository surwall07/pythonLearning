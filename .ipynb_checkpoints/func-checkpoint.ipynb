{
 "cells": [
  {
   "cell_type": "markdown",
   "metadata": {},
   "source": [
    "# 定义函数"
   ]
  },
  {
   "cell_type": "code",
   "execution_count": 3,
   "metadata": {},
   "outputs": [
    {
     "name": "stdout",
     "output_type": "stream",
     "text": [
      "Hello!\n"
     ]
    }
   ],
   "source": [
    "def greet_user():\n",
    "    \"\"\"显示简单的问候语\"\"\"\n",
    "    print(\"Hello!\")\n",
    "greet_user()"
   ]
  },
  {
   "cell_type": "markdown",
   "metadata": {},
   "source": [
    "# 传递实参"
   ]
  },
  {
   "cell_type": "markdown",
   "metadata": {},
   "source": [
    "## 位置实参 positional argument"
   ]
  },
  {
   "cell_type": "markdown",
   "metadata": {},
   "source": [
    "## 关键词实参 keyword argument"
   ]
  },
  {
   "cell_type": "code",
   "execution_count": 5,
   "metadata": {},
   "outputs": [
    {
     "name": "stdout",
     "output_type": "stream",
     "text": [
      "\n",
      "I have a hamster.\n",
      "My hamster's name is Harry.\n"
     ]
    }
   ],
   "source": [
    "def describe_pet(animal_type, pet_name):     \n",
    "    \"\"\"显示宠物的信息\"\"\"     \n",
    "    print(\"\\nI have a \" + animal_type + \".\")     \n",
    "    print(\"My \" + animal_type + \"'s name is \" + pet_name.title() + \".\")\n",
    "    \n",
    "\n",
    "describe_pet(pet_name='harry', animal_type='hamster') # 指定形参之后参数位置无关紧要"
   ]
  },
  {
   "cell_type": "markdown",
   "metadata": {},
   "source": [
    "## 让实参变成可选的"
   ]
  },
  {
   "cell_type": "markdown",
   "metadata": {},
   "source": [
    "# 传递列表"
   ]
  },
  {
   "cell_type": "markdown",
   "metadata": {},
   "source": [
    "## 禁止函数修改列表 "
   ]
  },
  {
   "cell_type": "markdown",
   "metadata": {},
   "source": [
    "### 要将列表的副本传给函数，可以这样做\n",
    "```python\n",
    "function_name(list_name[:])\n",
    "print_models(unprinted_models[:], completed_models)\n",
    "```"
   ]
  },
  {
   "cell_type": "markdown",
   "metadata": {},
   "source": [
    "# 传递任意数量的实参"
   ]
  },
  {
   "cell_type": "code",
   "execution_count": 6,
   "metadata": {},
   "outputs": [
    {
     "name": "stdout",
     "output_type": "stream",
     "text": [
      "\n",
      "Making a pizza with the following toppings:\n",
      "- pepperoni\n",
      "\n",
      "Making a pizza with the following toppings:\n",
      "- mushrooms\n",
      "- green peppers\n",
      "- extra cheese\n"
     ]
    }
   ],
   "source": [
    "def make_pizza(*toppings):     # *星号让python创建一个名为toppings的空元组，并将所有收到的值封装到这个元组中去\n",
    "    \"\"\"概述要制作的比萨\"\"\"     \n",
    "    print(\"\\nMaking a pizza with the following toppings:\")     \n",
    "    for topping in toppings:         \n",
    "        print(\"- \" + topping)          \n",
    "make_pizza('pepperoni') \n",
    "make_pizza('mushrooms', 'green peppers', 'extra cheese') \n"
   ]
  },
  {
   "cell_type": "markdown",
   "metadata": {},
   "source": [
    "# 将函数储存在模块中"
   ]
  },
  {
   "cell_type": "markdown",
   "metadata": {},
   "source": [
    "## 导入整个模块\n",
    "```python\n",
    "import pizza \n",
    " \n",
    "pizza.make_pizza(16, 'pepperoni') \n",
    "pizza.make_pizza(12, 'mushrooms', 'green peppers', 'extra cheese')\n",
    "```\n",
    "\n",
    "## 导入特定的函数\n",
    "```python\n",
    "from pizza import make_pizza \n",
    " \n",
    "make_pizza(16, 'pepperoni') \n",
    "make_pizza(12, 'mushrooms', 'green peppers', 'extra cheese') \n",
    "```\n",
    "\n",
    "## 使用as指定别名\n",
    "```python\n",
    "from pizza import make_pizza as mp \n",
    " \n",
    "mp(16, 'pepperoni') \n",
    "mp(12, 'mushrooms', 'green peppers', 'extra cheese') \n",
    "```\n",
    "\n",
    "## 使用as指定模块名\n",
    "```python\n",
    "import pizza as p \n",
    " \n",
    "p.make_pizza(16, 'pepperoni') \n",
    "p.make_pizza(12, 'mushrooms', 'green peppers', 'extra cheese'\n",
    "```\n",
    "\n",
    "## 导入模块中的所有函数\n",
    "* import语句中的星号让Python将模块pizza中的每个函数都复制到这个程序文件中。由于导入 了每个函数，可通过名称来调用每个函数，而无需使用句点表示法。"
   ]
  },
  {
   "cell_type": "markdown",
   "metadata": {},
   "source": [
    "# 函数编写指南"
   ]
  },
  {
   "cell_type": "markdown",
   "metadata": {},
   "source": [
    "* 给形参指定默认值时，等号两边不要有空格： \n",
    "```python\n",
    "def function_name ( parameter_0 , parameter_1='default value')\n",
    "```\n",
    "* 对于函数调用中的关键字实参，也应遵循这种约定： \n",
    "```python\n",
    "function_name ( value_0 , parameter_1='value')\n",
    "```\n",
    "* 如果形参很多，导致函数定义的长度超过了79字符， 可在函数定义中输入左括号后按回车键，并在下一行按两次Tab键，从而将形参列表和只缩进一 层的函数体区分开来。 \n",
    "```python\n",
    "def function_name (         \n",
    "    parameter_0 , parameter_1 , parameter_2 ,         \n",
    "    parameter_3 , parameter_4 , parameter_5 ):     \n",
    "    function body...\n",
    "```\n",
    "* 如果程序或模块包含多个函数，可使用两个空行将相邻的函数分开"
   ]
  },
  {
   "cell_type": "code",
   "execution_count": null,
   "metadata": {},
   "outputs": [],
   "source": []
  }
 ],
 "metadata": {
  "kernelspec": {
   "display_name": "Python 3",
   "language": "python",
   "name": "python3"
  },
  "language_info": {
   "codemirror_mode": {
    "name": "ipython",
    "version": 3
   },
   "file_extension": ".py",
   "mimetype": "text/x-python",
   "name": "python",
   "nbconvert_exporter": "python",
   "pygments_lexer": "ipython3",
   "version": "3.7.4"
  }
 },
 "nbformat": 4,
 "nbformat_minor": 4
}
