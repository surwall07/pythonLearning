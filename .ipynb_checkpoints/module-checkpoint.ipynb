{
 "cells": [
  {
   "cell_type": "markdown",
   "metadata": {},
   "source": [
    "# 将函数储存在模块中"
   ]
  },
  {
   "cell_type": "markdown",
   "metadata": {},
   "source": [
    "## 导入整个模块\n",
    "```python\n",
    "import pizza \n",
    " \n",
    "pizza.make_pizza(16, 'pepperoni') \n",
    "pizza.make_pizza(12, 'mushrooms', 'green peppers', 'extra cheese')\n",
    "```\n",
    "\n",
    "## 导入特定的函数\n",
    "```python\n",
    "from pizza import make_pizza \n",
    " \n",
    "make_pizza(16, 'pepperoni') \n",
    "make_pizza(12, 'mushrooms', 'green peppers', 'extra cheese') \n",
    "```\n",
    "\n",
    "## 使用as指定别名\n",
    "```python\n",
    "from pizza import make_pizza as mp \n",
    " \n",
    "mp(16, 'pepperoni') \n",
    "mp(12, 'mushrooms', 'green peppers', 'extra cheese') \n",
    "```\n",
    "\n",
    "## 使用as指定模块名\n",
    "```python\n",
    "import pizza as p \n",
    " \n",
    "p.make_pizza(16, 'pepperoni') \n",
    "p.make_pizza(12, 'mushrooms', 'green peppers', 'extra cheese'\n",
    "```\n",
    "\n",
    "## 导入模块中的所有函数\n",
    "* import语句中的星号让Python将模块pizza中的每个函数都复制到这个程序文件中。由于导入 了每个函数，可通过名称来调用每个函数，而无需使用句点表示法。"
   ]
  },
  {
   "cell_type": "markdown",
   "metadata": {},
   "source": [
    "# 函数编写指南"
   ]
  },
  {
   "cell_type": "markdown",
   "metadata": {},
   "source": [
    "* 给形参指定默认值时，等号两边不要有空格： \n",
    "```python\n",
    "def function_name ( parameter_0 , parameter_1='default value')\n",
    "```\n",
    "* 对于函数调用中的关键字实参，也应遵循这种约定： \n",
    "```python\n",
    "function_name ( value_0 , parameter_1='value')\n",
    "```\n",
    "* 如果形参很多，导致函数定义的长度超过了79字符， 可在函数定义中输入左括号后按回车键，并在下一行按两次Tab键，从而将形参列表和只缩进一 层的函数体区分开来。 \n",
    "```python\n",
    "def function_name (         \n",
    "    parameter_0 , parameter_1 , parameter_2 ,         \n",
    "    parameter_3 , parameter_4 , parameter_5 ):     \n",
    "    function body...\n",
    "```\n",
    "* 如果程序或模块包含多个函数，可使用两个空行将相邻的函数分开"
   ]
  }
 ],
 "metadata": {
  "kernelspec": {
   "display_name": "Python 3",
   "language": "python",
   "name": "python3"
  },
  "language_info": {
   "codemirror_mode": {
    "name": "ipython",
    "version": 3
   },
   "file_extension": ".py",
   "mimetype": "text/x-python",
   "name": "python",
   "nbconvert_exporter": "python",
   "pygments_lexer": "ipython3",
   "version": "3.7.4"
  }
 },
 "nbformat": 4,
 "nbformat_minor": 4
}
