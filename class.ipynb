{
 "cells": [
  {
   "cell_type": "markdown",
   "metadata": {},
   "source": [
    "# 创建类和使用类"
   ]
  },
  {
   "cell_type": "code",
   "execution_count": 1,
   "metadata": {},
   "outputs": [],
   "source": [
    "class Dog():\n",
    "    \"\"\"一次模拟小狗的简单尝试\"\"\"\n",
    "    \n",
    "    def __init__(self, name, age):  # 特殊方法，创建实例时会自动运行 为何必须在方法定义中包含形参self呢？因为 Python调用这个__init__()方法来创建Dog实例时，将自动传入实参self。\n",
    "        \"\"\"初始化属性name和age\"\"\"\n",
    "        self.name = name\n",
    "        self.age = age\n",
    "        \n",
    "    def sit(self):\n",
    "        \"\"\"模拟小狗命令时蹲下\"\"\"\n",
    "        print(self.name.title() + \" is now sitting.\")\n",
    "        \n",
    "    def roll_over(self):\n",
    "        \"\"\"模拟小狗被命令时打滚\"\"\"\n",
    "        print(self.name.title() + \" rolled over!\")\n",
    "        "
   ]
  },
  {
   "cell_type": "markdown",
   "metadata": {},
   "source": [
    "## 根据类创建实例 "
   ]
  },
  {
   "cell_type": "code",
   "execution_count": 3,
   "metadata": {},
   "outputs": [
    {
     "name": "stdout",
     "output_type": "stream",
     "text": [
      "My dog's name is Willie.\n",
      "My dog's age is 6 years old.\n",
      "Willie is now sitting.\n",
      "Willie rolled over!\n"
     ]
    }
   ],
   "source": [
    "my_dog = Dog('willie', 6)\n",
    "\n",
    "print(\"My dog's name is \" + my_dog.name.title() + \".\")\n",
    "print(\"My dog's age is \" + str(my_dog.age) + \" years old.\")\n",
    "my_dog.sit()\n",
    "my_dog.roll_over()"
   ]
  },
  {
   "cell_type": "markdown",
   "metadata": {},
   "source": [
    "## 给属性指定默认值"
   ]
  },
  {
   "cell_type": "code",
   "execution_count": 5,
   "metadata": {},
   "outputs": [
    {
     "name": "stdout",
     "output_type": "stream",
     "text": [
      "0\n"
     ]
    }
   ],
   "source": [
    "class Car():          \n",
    "    def __init__(self, make, model, year):         \n",
    "        \"\"\"初始化描述汽车的属性\"\"\"         \n",
    "        self.make = make         \n",
    "        self.model = model         \n",
    "        self.year = year        \n",
    "        self.odometer_reading = 0\n",
    "my_new_car = Car('audi', 'a4', 2016)\n",
    "print(my_new_car.odometer_reading)"
   ]
  },
  {
   "cell_type": "markdown",
   "metadata": {},
   "source": [
    "# 方法"
   ]
  },
  {
   "cell_type": "code",
   "execution_count": 9,
   "metadata": {},
   "outputs": [
    {
     "name": "stdout",
     "output_type": "stream",
     "text": [
      "<__main__.User object at 0x000001F0CA013988> 正在慢慢走\n",
      "fkit 正在慢慢走\n"
     ]
    }
   ],
   "source": [
    "class User:\n",
    "    def walk (self):\n",
    "        print(self, '正在慢慢走')\n",
    "# 通过类调用实例方法\n",
    "# User.walk()\n",
    "u = User() \n",
    "User.walk(u)  # 效果完全等同于u.walk()\n",
    "# 实际上python只要求手动为第一个参数绑定参数值， 并不要求绑定User对象\n",
    "User.walk('fkit')"
   ]
  },
  {
   "cell_type": "markdown",
   "metadata": {},
   "source": [
    "## 类方法与静态方法\n",
    "* Python 会自动绑定类方法的第一个参数，类方法的第一个参数（通常建议参数名为 els）会自动绑 定到类本身：但对于静态方法则不会自动结11定。 \n",
    "* 使用＠classmethod 修饰的方法就是类方法：使用＠staticmethod 修饰的方法就是静态方法。 "
   ]
  },
  {
   "cell_type": "code",
   "execution_count": 23,
   "metadata": {},
   "outputs": [
    {
     "name": "stdout",
     "output_type": "stream",
     "text": [
      "类方法fly:  <class '__main__.Bird'>\n",
      "静态方法info:  crazyit\n"
     ]
    }
   ],
   "source": [
    "class Bird:\n",
    "    @classmethod\n",
    "    def fly(cls):\n",
    "        print('类方法fly: ', cls)\n",
    "    \n",
    "    @staticmethod\n",
    "    def info(p):\n",
    "        print('静态方法info: ', p)\n",
    "        \n",
    "# 调用类方法，bird会自动绑定到第一个参数\n",
    "Bird.fly()\n",
    "# 调用静态方法，不会自动绑定，因此必须绑定第一个参数\n",
    "Bird.info('crazyit')"
   ]
  },
  {
   "cell_type": "markdown",
   "metadata": {},
   "source": [
    "## 装饰器"
   ]
  },
  {
   "cell_type": "code",
   "execution_count": 26,
   "metadata": {},
   "outputs": [
    {
     "name": "stdout",
     "output_type": "stream",
     "text": [
      "----执行权限检查-------\n",
      "执行test函数，参数a: 20， 参数b: 15\n"
     ]
    }
   ],
   "source": [
    "def auth(fn): # take a func as a parameter\n",
    "    def auth_fn(*args):\n",
    "        # 模拟执行权限检查\n",
    "        print(\"----执行权限检查-------\")\n",
    "        fn(*args)\n",
    "    return auth_fn\n",
    "\n",
    "@auth\n",
    "def test(a, b):\n",
    "    print(\"执行test函数，参数a: %s， 参数b: %s\" %(a, b))\n",
    "\n",
    "test(20, 15)"
   ]
  },
  {
   "cell_type": "markdown",
   "metadata": {},
   "source": []
  },
  {
   "cell_type": "code",
   "execution_count": null,
   "metadata": {},
   "outputs": [],
   "source": []
  },
  {
   "cell_type": "markdown",
   "metadata": {},
   "source": [
    "# 继承"
   ]
  },
  {
   "cell_type": "markdown",
   "metadata": {},
   "source": [
    "* 创建子类的实例时，Python首先需要完成的任务是给父类的所有属性赋值。为此，子类的方 法__init__()需要父类施以援手。 "
   ]
  },
  {
   "cell_type": "code",
   "execution_count": 7,
   "metadata": {},
   "outputs": [
    {
     "name": "stdout",
     "output_type": "stream",
     "text": [
      "model s\n",
      "This car has a 80-kwh battery.\n"
     ]
    }
   ],
   "source": [
    "class ElectricCar(Car): # 继承类\n",
    "    \"\"\"电动汽车的独特之处\"\"\"\n",
    "    \n",
    "    def __init__(self, make, model, year, battery_size):\n",
    "        \"\"\"初始化父类属性\"\"\"\n",
    "        super().__init__(make, model, year) # 处的super()是一个特殊函数，帮助Python将父类和子类关联起来。这行代码让Python调用 ElectricCar的父类的方法__init__()，让ElectricCar实例包含父类的所有属性。\n",
    "        self.battery_size = battery_size\n",
    "\n",
    "    def describe_battery(self):\n",
    "        \"\"\"打印一条描述电瓶容量的信息\"\"\"\n",
    "        print(\"This car has a \" + str(self.battery_size) + \"-kwh battery.\")\n",
    "        \n",
    "\n",
    "my_telsa = ElectricCar('tesla', 'model s', 2016, 80) \n",
    "print(my_telsa.model)\n",
    "my_telsa.describe_battery()\n"
   ]
  },
  {
   "cell_type": "markdown",
   "metadata": {},
   "source": [
    "# 类编码风格"
   ]
  },
  {
   "cell_type": "markdown",
   "metadata": {},
   "source": [
    "* 类名应采用驼峰命名法，即将类名中的每个单词的首字母都大写，而不使用下划线。实例名 和模块名都采用小写格式，并在单词之间加上下划线。 \n",
    "* 对于每个类，都应紧跟在类定义后面包含一个文档字符串。这种文档字符串简要地描述类的 功能，并遵循编写函数的文档字符串时采用的格式约定。每个模块也都应包含一个文档字符串， 对其中的类可用于做什么进行描述。 可使用空行来组织代码，但不要滥用。在类中，可使用一个空行来分隔方法；而在模块中， 可使用两个空行来分隔类。 \n",
    "* 需要同时导入标准库中的模块和你编写的模块时，先编写导入标准库模块的import语句，再 添加一个空行，然后编写导入你自己编写的模块的import语句。在包含多条import语句的程序中， 这种做法让人更容易明白程序使用的各个模块都来自何方"
   ]
  },
  {
   "cell_type": "code",
   "execution_count": null,
   "metadata": {},
   "outputs": [],
   "source": []
  }
 ],
 "metadata": {
  "kernelspec": {
   "display_name": "Python 3",
   "language": "python",
   "name": "python3"
  },
  "language_info": {
   "codemirror_mode": {
    "name": "ipython",
    "version": 3
   },
   "file_extension": ".py",
   "mimetype": "text/x-python",
   "name": "python",
   "nbconvert_exporter": "python",
   "pygments_lexer": "ipython3",
   "version": "3.7.4"
  }
 },
 "nbformat": 4,
 "nbformat_minor": 4
}
